{
 "cells": [
  {
   "cell_type": "markdown",
   "id": "7790bbd4-0d2e-4350-876f-eff8271cea4e",
   "metadata": {},
   "source": [
    "# Lab Instructions\n",
    "\n",
    "Create 3 visualizations from text data of your choice.  Each visualization should have at least 1 - 2 sentences explaining both the figure and the interpretation.\n",
    "You may use any LLM and produce whatever visuals you think best illustrate your data.  "
   ]
  },
  {
   "cell_type": "code",
   "execution_count": null,
   "id": "4298bd7f-7a79-47d1-8c50-0398b765a572",
   "metadata": {},
   "outputs": [],
   "source": []
  }
 ],
 "metadata": {
  "kernelspec": {
   "display_name": "Python 3 (ipykernel)",
   "language": "python",
   "name": "python3"
  },
  "language_info": {
   "codemirror_mode": {
    "name": "ipython",
    "version": 3
   },
   "file_extension": ".py",
   "mimetype": "text/x-python",
   "name": "python",
   "nbconvert_exporter": "python",
   "pygments_lexer": "ipython3",
   "version": "3.11.4"
  }
 },
 "nbformat": 4,
 "nbformat_minor": 5
}
