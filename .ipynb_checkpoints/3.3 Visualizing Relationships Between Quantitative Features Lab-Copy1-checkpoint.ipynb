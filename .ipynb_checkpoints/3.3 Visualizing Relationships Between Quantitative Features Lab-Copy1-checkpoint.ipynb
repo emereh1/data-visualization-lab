{
 "cells": [
  {
   "cell_type": "markdown",
   "id": "64efd9d0-adcd-42ce-9ae6-d5fa345f4f2b",
   "metadata": {},
   "source": [
    "# Lab Instructions\n",
    "\n",
    "You are working as an analyst for a consulting agency that has been hired to study and improve productivity at a mid-sized company.  Morale is very low and, after speaking with employees, several common complaints kept coming up:\n",
    "\n",
    "* New employees complained that more tenured employees were lazy and unproductive.\n",
    "* More tenured employees complained that the newer employees didn't focus and were therefore unproductive.\n",
    "* Managers were worried that remote workers might be less productive.\n",
    "* In-person employees found it impossible to focus and be productive when their desk was in the open plan area.\n",
    "* Many people said they had so much administrative work to do they could only be truly productive if they worked overtime.\n",
    "* Everyone complained that there were too many meetings.\n",
    "\n",
    "The consulting agency carefully collected data on a number of factors including number of years at the company, focus (higher is better), productivity (higher is better), department, meetings per week, and desk location can be found in Employee_productivity.csv.\n",
    "\n",
    "1. Determine which feature - years at the company, hours worked, or focus - has the strongest linear relationship with productivity.  Show a visualization and calculate R-squared for all three relationships to justify your answer.\n",
    "\n",
    "2. Build on that linear regression model to determine what other featuers also impact productivity. Using both visualzations and R-squared values, build a model that can predicts employee productivity at this company. Evaluate each feature in the dataset.\n",
    "\n",
    "3. Write a short (a few sentences) summary of how the different factors in the data relate to employee productivity.  What recommendations would you make so that employees can be as productive as possible?\n",
    "\n"
   ]
  },
  {
   "cell_type": "code",
   "execution_count": null,
   "id": "cdcec0fa-fb4d-4bf1-8609-3928093f681d",
   "metadata": {},
   "outputs": [],
   "source": []
  },
  {
   "cell_type": "code",
   "execution_count": null,
   "id": "8f22c704-b512-4931-bb1f-cd893d7b9cc0",
   "metadata": {},
   "outputs": [],
   "source": []
  }
 ],
 "metadata": {
  "kernelspec": {
   "display_name": "Python 3 (ipykernel)",
   "language": "python",
   "name": "python3"
  },
  "language_info": {
   "codemirror_mode": {
    "name": "ipython",
    "version": 3
   },
   "file_extension": ".py",
   "mimetype": "text/x-python",
   "name": "python",
   "nbconvert_exporter": "python",
   "pygments_lexer": "ipython3",
   "version": "3.11.4"
  }
 },
 "nbformat": 4,
 "nbformat_minor": 5
}
