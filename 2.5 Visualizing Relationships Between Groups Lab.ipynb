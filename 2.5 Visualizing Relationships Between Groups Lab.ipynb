{
 "cells": [
  {
   "cell_type": "markdown",
   "id": "28c93a12-5d6b-4ec2-8f55-ae8041395903",
   "metadata": {},
   "source": [
    "# Lab Instructions\n",
    "\n",
    "You are part of a data team for a financial institution that uses an AI model to determine who will and will not be granted a loan.  Recently, there have been complaints from customers that the model unfairly discriminates based on the applicant's age and sex. A court has ordered that the financial institution must provide information about how the model works.  \n",
    "\n",
    "Data from recent loan applications is given in `loan_data.csv`.  The data dictionary is below:\n",
    "\n",
    "| Feature              | Description | Data Type |\n",
    "| :---------------- | :------: | ----: |\n",
    "|person_age|Age of the person|Float\n",
    "|person_gender|Gender of the person|Categorical\n",
    "|person_education|Highest education level|Categorical\n",
    "|person_income|Annual income|Float\n",
    "|person_emp_exp|Years of employment experience|Integer\n",
    "|person_home_ownership|Home ownership status (e.g., rent, own, mortgage)|Categorical\n",
    "|loan_amnt|Loan amount requested|Float\n",
    "|loan_intent|Purpose of the loan|Categorical\n",
    "|loan_int_rate|Loan interest rate|Float\n",
    "|loan_percent_income|Loan amount as a percentage of annual income|Float\n",
    "|cb_person_cred_hist_length|Length of credit history in years|Float\n",
    "|credit_score|Credit score of the person|Integer\n",
    "|previous_loan_defaults_on_file|Indicator of previous loan defaults|Categorical\n",
    "|loan_status (target variable)|Loan approval status: 1 = approved; 0 = rejected|Integer\n",
    "\n",
    "Visualize the relationship between age, sex and 5 other features with `loan_status`.  Which features seem to drive the model's decision to grant a loan?  Which seem unrelated?  Should the financial institution be concerned about potential legal trouble?  Make sure to justify your answers with specific references to your visualizations.\n",
    "\n"
   ]
  },
  {
   "cell_type": "code",
   "execution_count": null,
   "id": "d40c81d3-7bc6-43c9-a97d-d1970621ec84",
   "metadata": {},
   "outputs": [],
   "source": []
  },
  {
   "cell_type": "code",
   "execution_count": null,
   "id": "96fff61d-ba89-4c74-8712-a5abe4cc1ecf",
   "metadata": {},
   "outputs": [],
   "source": []
  }
 ],
 "metadata": {
  "kernelspec": {
   "display_name": "Python 3 (ipykernel)",
   "language": "python",
   "name": "python3"
  },
  "language_info": {
   "codemirror_mode": {
    "name": "ipython",
    "version": 3
   },
   "file_extension": ".py",
   "mimetype": "text/x-python",
   "name": "python",
   "nbconvert_exporter": "python",
   "pygments_lexer": "ipython3",
   "version": "3.11.4"
  }
 },
 "nbformat": 4,
 "nbformat_minor": 5
}
