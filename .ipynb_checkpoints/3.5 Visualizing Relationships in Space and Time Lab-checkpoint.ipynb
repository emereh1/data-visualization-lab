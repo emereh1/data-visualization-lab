{
 "cells": [
  {
   "cell_type": "markdown",
   "id": "2f51cb44-20fd-4f52-a537-e9fc25f9c945",
   "metadata": {},
   "source": [
    "# Lab Instructions\n",
    "\n",
    "Create 3 visualizations from a spatial and time-series dataset of your choice.  Describe your dataset including where it came from and the features it contains.  Each visualization should be accompanied by at least 1 - 2 sentences explaining how the features do (or do not!) change over time and througout space."
   ]
  },
  {
   "cell_type": "code",
   "execution_count": null,
   "id": "9d3b0990-6ae8-4085-812d-a80b2a8f5f94",
   "metadata": {},
   "outputs": [],
   "source": []
  }
 ],
 "metadata": {
  "kernelspec": {
   "display_name": "Python 3 (ipykernel)",
   "language": "python",
   "name": "python3"
  },
  "language_info": {
   "codemirror_mode": {
    "name": "ipython",
    "version": 3
   },
   "file_extension": ".py",
   "mimetype": "text/x-python",
   "name": "python",
   "nbconvert_exporter": "python",
   "pygments_lexer": "ipython3",
   "version": "3.11.4"
  }
 },
 "nbformat": 4,
 "nbformat_minor": 5
}
